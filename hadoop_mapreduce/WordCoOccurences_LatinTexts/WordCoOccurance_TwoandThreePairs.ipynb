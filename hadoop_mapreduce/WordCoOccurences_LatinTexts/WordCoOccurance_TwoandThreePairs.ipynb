{
 "cells": [
  {
   "cell_type": "code",
   "execution_count": null,
   "metadata": {
    "collapsed": true
   },
   "outputs": [],
   "source": [
    "# Author: Mitchel Taylor"
   ]
  },
  {
   "cell_type": "code",
   "execution_count": 4,
   "metadata": {
    "collapsed": true
   },
   "outputs": [],
   "source": [
    "# Read in times from running two and three pair hadoop jobs\n",
    "df <- read.csv(\"output_tests/hadoop_times.csv\");"
   ]
  },
  {
   "cell_type": "code",
   "execution_count": 5,
   "metadata": {
    "collapsed": false
   },
   "outputs": [
    {
     "data": {
      "text/html": [
       "<table>\n",
       "<thead><tr><th scope=col>n</th><th scope=col>files</th><th scope=col>time.s.</th></tr></thead>\n",
       "<tbody>\n",
       "\t<tr><td>2       </td><td>2       </td><td>  6.9800</td></tr>\n",
       "\t<tr><td>2       </td><td>3       </td><td>  4.0480</td></tr>\n",
       "\t<tr><td>2       </td><td>4       </td><td> 46.0940</td></tr>\n",
       "\t<tr><td>2       </td><td>5       </td><td>156.4040</td></tr>\n",
       "\t<tr><td>3       </td><td>2       </td><td>  5.9940</td></tr>\n",
       "\t<tr><td>3       </td><td>3       </td><td>  5.0092</td></tr>\n",
       "</tbody>\n",
       "</table>\n"
      ],
      "text/latex": [
       "\\begin{tabular}{r|lll}\n",
       " n & files & time.s.\\\\\n",
       "\\hline\n",
       "\t 2        & 2        &   6.9800\\\\\n",
       "\t 2        & 3        &   4.0480\\\\\n",
       "\t 2        & 4        &  46.0940\\\\\n",
       "\t 2        & 5        & 156.4040\\\\\n",
       "\t 3        & 2        &   5.9940\\\\\n",
       "\t 3        & 3        &   5.0092\\\\\n",
       "\\end{tabular}\n"
      ],
      "text/markdown": [
       "\n",
       "n | files | time.s. | \n",
       "|---|---|---|---|---|---|\n",
       "| 2        | 2        |   6.9800 | \n",
       "| 2        | 3        |   4.0480 | \n",
       "| 2        | 4        |  46.0940 | \n",
       "| 2        | 5        | 156.4040 | \n",
       "| 3        | 2        |   5.9940 | \n",
       "| 3        | 3        |   5.0092 | \n",
       "\n",
       "\n"
      ],
      "text/plain": [
       "  n files time.s. \n",
       "1 2 2       6.9800\n",
       "2 2 3       4.0480\n",
       "3 2 4      46.0940\n",
       "4 2 5     156.4040\n",
       "5 3 2       5.9940\n",
       "6 3 3       5.0092"
      ]
     },
     "metadata": {},
     "output_type": "display_data"
    }
   ],
   "source": [
    "head(df)"
   ]
  },
  {
   "cell_type": "code",
   "execution_count": 6,
   "metadata": {
    "collapsed": false
   },
   "outputs": [
    {
     "data": {
      "text/html": [
       "<table>\n",
       "<thead><tr><th scope=col>n</th><th scope=col>files</th><th scope=col>time.s.</th></tr></thead>\n",
       "<tbody>\n",
       "\t<tr><td>2       </td><td>2       </td><td>  6.9800</td></tr>\n",
       "\t<tr><td>2       </td><td>3       </td><td>  4.0480</td></tr>\n",
       "\t<tr><td>2       </td><td>4       </td><td> 46.0940</td></tr>\n",
       "\t<tr><td>2       </td><td>5       </td><td>156.4040</td></tr>\n",
       "\t<tr><td>3       </td><td>2       </td><td>  5.9940</td></tr>\n",
       "\t<tr><td>3       </td><td>3       </td><td>  5.0092</td></tr>\n",
       "\t<tr><td>3       </td><td>4       </td><td> 59.2500</td></tr>\n",
       "\t<tr><td>3       </td><td>5       </td><td>261.7600</td></tr>\n",
       "</tbody>\n",
       "</table>\n"
      ],
      "text/latex": [
       "\\begin{tabular}{r|lll}\n",
       " n & files & time.s.\\\\\n",
       "\\hline\n",
       "\t 2        & 2        &   6.9800\\\\\n",
       "\t 2        & 3        &   4.0480\\\\\n",
       "\t 2        & 4        &  46.0940\\\\\n",
       "\t 2        & 5        & 156.4040\\\\\n",
       "\t 3        & 2        &   5.9940\\\\\n",
       "\t 3        & 3        &   5.0092\\\\\n",
       "\t 3        & 4        &  59.2500\\\\\n",
       "\t 3        & 5        & 261.7600\\\\\n",
       "\\end{tabular}\n"
      ],
      "text/markdown": [
       "\n",
       "n | files | time.s. | \n",
       "|---|---|---|---|---|---|---|---|\n",
       "| 2        | 2        |   6.9800 | \n",
       "| 2        | 3        |   4.0480 | \n",
       "| 2        | 4        |  46.0940 | \n",
       "| 2        | 5        | 156.4040 | \n",
       "| 3        | 2        |   5.9940 | \n",
       "| 3        | 3        |   5.0092 | \n",
       "| 3        | 4        |  59.2500 | \n",
       "| 3        | 5        | 261.7600 | \n",
       "\n",
       "\n"
      ],
      "text/plain": [
       "  n files time.s. \n",
       "1 2 2       6.9800\n",
       "2 2 3       4.0480\n",
       "3 2 4      46.0940\n",
       "4 2 5     156.4040\n",
       "5 3 2       5.9940\n",
       "6 3 3       5.0092\n",
       "7 3 4      59.2500\n",
       "8 3 5     261.7600"
      ]
     },
     "metadata": {},
     "output_type": "display_data"
    }
   ],
   "source": [
    "df"
   ]
  },
  {
   "cell_type": "code",
   "execution_count": 7,
   "metadata": {
    "collapsed": false
   },
   "outputs": [
    {
     "name": "stderr",
     "output_type": "stream",
     "text": [
      "Warning message:\n",
      "\"package 'ggplot2' was built under R version 3.3.3\""
     ]
    }
   ],
   "source": [
    "library(ggplot2)"
   ]
  },
  {
   "cell_type": "code",
   "execution_count": 17,
   "metadata": {
    "collapsed": true
   },
   "outputs": [],
   "source": [
    "colnames(df) <- c(n=\"ngrams\",files=\"numfiles\",time.s.=\"duration\")"
   ]
  },
  {
   "cell_type": "code",
   "execution_count": 18,
   "metadata": {
    "collapsed": false
   },
   "outputs": [
    {
     "data": {
      "text/html": [
       "<table>\n",
       "<thead><tr><th scope=col>ngrams</th><th scope=col>numfiles</th><th scope=col>duration</th></tr></thead>\n",
       "<tbody>\n",
       "\t<tr><td>2       </td><td>2       </td><td>  6.9800</td></tr>\n",
       "\t<tr><td>2       </td><td>3       </td><td>  4.0480</td></tr>\n",
       "\t<tr><td>2       </td><td>4       </td><td> 46.0940</td></tr>\n",
       "\t<tr><td>2       </td><td>5       </td><td>156.4040</td></tr>\n",
       "\t<tr><td>3       </td><td>2       </td><td>  5.9940</td></tr>\n",
       "\t<tr><td>3       </td><td>3       </td><td>  5.0092</td></tr>\n",
       "</tbody>\n",
       "</table>\n"
      ],
      "text/latex": [
       "\\begin{tabular}{r|lll}\n",
       " ngrams & numfiles & duration\\\\\n",
       "\\hline\n",
       "\t 2        & 2        &   6.9800\\\\\n",
       "\t 2        & 3        &   4.0480\\\\\n",
       "\t 2        & 4        &  46.0940\\\\\n",
       "\t 2        & 5        & 156.4040\\\\\n",
       "\t 3        & 2        &   5.9940\\\\\n",
       "\t 3        & 3        &   5.0092\\\\\n",
       "\\end{tabular}\n"
      ],
      "text/markdown": [
       "\n",
       "ngrams | numfiles | duration | \n",
       "|---|---|---|---|---|---|\n",
       "| 2        | 2        |   6.9800 | \n",
       "| 2        | 3        |   4.0480 | \n",
       "| 2        | 4        |  46.0940 | \n",
       "| 2        | 5        | 156.4040 | \n",
       "| 3        | 2        |   5.9940 | \n",
       "| 3        | 3        |   5.0092 | \n",
       "\n",
       "\n"
      ],
      "text/plain": [
       "  ngrams numfiles duration\n",
       "1 2      2          6.9800\n",
       "2 2      3          4.0480\n",
       "3 2      4         46.0940\n",
       "4 2      5        156.4040\n",
       "5 3      2          5.9940\n",
       "6 3      3          5.0092"
      ]
     },
     "metadata": {},
     "output_type": "display_data"
    }
   ],
   "source": [
    "head(df)"
   ]
  },
  {
   "cell_type": "code",
   "execution_count": 22,
   "metadata": {
    "collapsed": false
   },
   "outputs": [
    {
     "data": {},
     "metadata": {},
     "output_type": "display_data"
    },
    {
     "data": {
      "image/png": "[encoded data removed]",
      "text/plain": [
       "plot without title"
      ]
     },
     "metadata": {},
     "output_type": "display_data"
    }
   ],
   "source": [
    "ggplot(df,aes(y=df$duration,x=df$numfiles,group=df$ngrams)) + \n",
    "    geom_point(aes(color=ngrams)) +\n",
    "    geom_line(aes(color=ngrams))"
   ]
  },
  {
   "cell_type": "markdown",
   "metadata": {},
   "source": [
    "## Conclusion\n",
    "\n",
    "When running activity 4 for 2 and 3 ngrams there actually wasn't a huge amount of difference in duration. Up until 5 documents the program executed rather quickly. Once I went past that though, it would take a few minutes plus. I think it shows obviously here that the performance and scalability is quite low for my implementation. Implementing parrallelization or more than one data node would help with this i think."
   ]
  },
  {
   "cell_type": "code",
   "execution_count": null,
   "metadata": {
    "collapsed": true
   },
   "outputs": [],
   "source": []
  },
  {
   "cell_type": "code",
   "execution_count": null,
   "metadata": {
    "collapsed": true
   },
   "outputs": [],
   "source": []
  }
 ],
 "metadata": {
  "kernelspec": {
   "display_name": "R",
   "language": "R",
   "name": "ir"
  },
  "language_info": {
   "codemirror_mode": "r",
   "file_extension": ".r",
   "mimetype": "text/x-r-source",
   "name": "R",
   "pygments_lexer": "r",
   "version": "3.3.2"
  }
 },
 "nbformat": 4,
 "nbformat_minor": 2
}

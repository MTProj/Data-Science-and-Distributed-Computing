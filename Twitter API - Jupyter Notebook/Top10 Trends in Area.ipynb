{
 "cells": [
  {
   "cell_type": "code",
   "execution_count": 1,
   "metadata": {
    "collapsed": true
   },
   "outputs": [],
   "source": [
    "# Jupyter Note Book to get Top10 Trends in Area"
   ]
  },
  {
   "cell_type": "code",
   "execution_count": 2,
   "metadata": {
    "collapsed": false
   },
   "outputs": [
    {
     "name": "stderr",
     "output_type": "stream",
     "text": [
      "Installing package into 'C:/Users/Mitch/Documents/R/win-library/3.3'\n",
      "(as 'lib' is unspecified)\n"
     ]
    },
    {
     "name": "stdout",
     "output_type": "stream",
     "text": [
      "package 'twitteR' successfully unpacked and MD5 sums checked\n",
      "\n",
      "The downloaded binary packages are in\n",
      "\tC:\\Users\\Mitch\\AppData\\Local\\Temp\\RtmpCGzluz\\downloaded_packages\n"
     ]
    },
    {
     "name": "stderr",
     "output_type": "stream",
     "text": [
      "Installing package into 'C:/Users/Mitch/Documents/R/win-library/3.3'\n",
      "(as 'lib' is unspecified)\n"
     ]
    },
    {
     "name": "stdout",
     "output_type": "stream",
     "text": [
      "package 'ggmap' successfully unpacked and MD5 sums checked\n",
      "\n",
      "The downloaded binary packages are in\n",
      "\tC:\\Users\\Mitch\\AppData\\Local\\Temp\\RtmpCGzluz\\downloaded_packages\n"
     ]
    },
    {
     "name": "stderr",
     "output_type": "stream",
     "text": [
      "Warning message:\n",
      "\"package 'twitteR' was built under R version 3.3.3\"Warning message:\n",
      "\"package 'ggmap' was built under R version 3.3.3\"Loading required package: ggplot2\n",
      "Warning message:\n",
      "\"package 'ggplot2' was built under R version 3.3.3\""
     ]
    }
   ],
   "source": [
    "install.packages(\"twitteR\", repos=\"http://cran.us.r-project.org/\")\n",
    "install.packages(\"ggmap\",repos=\"http://cran.us.r-project.org/\")\n",
    "library(twitteR)\n",
    "library(ggmap)"
   ]
  },
  {
   "cell_type": "code",
   "execution_count": 26,
   "metadata": {
    "collapsed": false
   },
   "outputs": [
    {
     "name": "stdout",
     "output_type": "stream",
     "text": [
      "[1] \"Using direct authentication\"\n"
     ]
    }
   ],
   "source": [
    "setup_twitter_oauth(\"\",\t\"\",\"\",\"\")"
   ]
  },
  {
   "cell_type": "code",
   "execution_count": 27,
   "metadata": {
    "collapsed": false
   },
   "outputs": [
    {
     "name": "stderr",
     "output_type": "stream",
     "text": [
      "Information from URL : http://maps.googleapis.com/maps/api/geocode/json?address=New%20York%20City,NY&sensor=false\n"
     ]
    }
   ],
   "source": [
    "#Enter Location to get top trends at that location or closest to.\n",
    "location = \"New York City,NY\"\n",
    "\n",
    "# Use closestTrendLocations because not all areas will have trending information.\n",
    "coords <-geocode(location)\n",
    "data <- closestTrendLocations(coords[2],coords[1])\n",
    "trendDF <- getTrends(data[1,3])"
   ]
  },
  {
   "cell_type": "code",
   "execution_count": 28,
   "metadata": {
    "collapsed": false
   },
   "outputs": [],
   "source": [
    "#Put top 10 trends in list\n",
    "val = dim(trendDF)\n",
    "numTrends <- val[1]"
   ]
  },
  {
   "cell_type": "code",
   "execution_count": 29,
   "metadata": {
    "collapsed": false
   },
   "outputs": [],
   "source": [
    "#Check if number of trends for area is less than 10.\n",
    "topTrends <- NULL\n",
    "if(numTrends > 10){\n",
    "    #Get top 10 trends\n",
    "    c <- 0\n",
    "    while(c < 10){\n",
    "        c <- c+1\n",
    "        topTrends[c] <- trendDF[c,1]\n",
    "    }\n",
    "}else{\n",
    "    #Use numTrends as length for building string And use all trends as top10\n",
    "        #Get top 10 trends\n",
    "    c <- 0\n",
    "    while(c < numTrends){\n",
    "        c <- c+1\n",
    "        topTrends[c] <- trendDF[c,1]\n",
    "    }\n",
    "}"
   ]
  },
  {
   "cell_type": "code",
   "execution_count": 30,
   "metadata": {
    "collapsed": false
   },
   "outputs": [
    {
     "data": {
      "text/html": [
       "<span style=white-space:pre-wrap>'The top 10 trends in your area are  Prod, #hurtbae, #SJUBase, #umes, Spring, #Bears, #DonaldTrump, Romeo, Bill Maher, Ivan Koloff'</span>"
      ],
      "text/latex": [
       "'The top 10 trends in your area are  Prod, \\#hurtbae, \\#SJUBase, \\#umes, Spring, \\#Bears, \\#DonaldTrump, Romeo, Bill Maher, Ivan Koloff'"
      ],
      "text/markdown": [
       "<span style=white-space:pre-wrap>'The top 10 trends in your area are  Prod, #hurtbae, #SJUBase, #umes, Spring, #Bears, #DonaldTrump, Romeo, Bill Maher, Ivan Koloff'</span>"
      ],
      "text/plain": [
       "[1] \"The top 10 trends in your area are  Prod, #hurtbae, #SJUBase, #umes, Spring, #Bears, #DonaldTrump, Romeo, Bill Maher, Ivan Koloff\""
      ]
     },
     "metadata": {},
     "output_type": "display_data"
    }
   ],
   "source": [
    "#Build output string\n",
    "trendString <- paste(topTrends,collapse=\", \")\n",
    "statementString <- \"The top 10 trends in your area are \"\n",
    "output <- paste(statementString,trendString)\n",
    "output\n"
   ]
  }
 ],
 "metadata": {
  "kernelspec": {
   "display_name": "R",
   "language": "R",
   "name": "ir"
  },
  "language_info": {
   "codemirror_mode": "r",
   "file_extension": ".r",
   "mimetype": "text/x-r-source",
   "name": "R",
   "pygments_lexer": "r",
   "version": "3.3.2"
  }
 },
 "nbformat": 4,
 "nbformat_minor": 2
}
